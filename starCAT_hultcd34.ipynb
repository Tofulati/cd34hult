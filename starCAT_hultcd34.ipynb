{
 "cells": [
  {
   "cell_type": "code",
   "execution_count": null,
   "metadata": {
    "vscode": {
     "languageId": "r"
    }
   },
   "outputs": [
    {
     "ename": "ERROR",
     "evalue": "Error in library(Seurat): there is no package called ‘Seurat’\n",
     "output_type": "error",
     "traceback": [
      "Error in library(Seurat): there is no package called ‘Seurat’\nTraceback:\n",
      "1. withCallingHandlers(expr, packageStartupMessage = function(c) tryInvokeRestart(\"muffleMessage\"))",
      "2. library(Seurat)",
      "3. stop(packageNotFoundError(package, lib.loc, sys.call()))"
     ]
    }
   ],
   "source": [
    "suppressPackageStartupMessages({\n",
    "    library(tidyverse)\n",
    "    library(data.table)\n",
    "    library(Matrix)\n",
    "    library(Seurat)\n",
    "    library(R.utils)\n",
    "})"
   ]
  },
  {
   "cell_type": "markdown",
   "metadata": {},
   "source": [
    "# Setting up data"
   ]
  },
  {
   "cell_type": "markdown",
   "metadata": {},
   "source": [
    "Retrieve Seurat Object"
   ]
  },
  {
   "cell_type": "code",
   "execution_count": null,
   "metadata": {
    "vscode": {
     "languageId": "r"
    }
   },
   "outputs": [],
   "source": [
    "cd34_df <- readRDS(file = 'hultCD34_full.RDS')\n",
    "cd34_df"
   ]
  },
  {
   "cell_type": "markdown",
   "metadata": {},
   "source": [
    "See Shape of Object"
   ]
  },
  {
   "cell_type": "code",
   "execution_count": null,
   "metadata": {
    "vscode": {
     "languageId": "r"
    }
   },
   "outputs": [],
   "source": [
    "head(cd34_df)"
   ]
  },
  {
   "cell_type": "code",
   "execution_count": null,
   "metadata": {
    "vscode": {
     "languageId": "r"
    }
   },
   "outputs": [],
   "source": [
    "nrow(cd34_df)"
   ]
  },
  {
   "cell_type": "code",
   "execution_count": null,
   "metadata": {
    "vscode": {
     "languageId": "r"
    }
   },
   "outputs": [],
   "source": [
    "ncol(cd34_df)"
   ]
  },
  {
   "cell_type": "markdown",
   "metadata": {},
   "source": [
    "Allign Usage scores with Seurat object"
   ]
  },
  {
   "cell_type": "code",
   "execution_count": null,
   "metadata": {
    "vscode": {
     "languageId": "r"
    }
   },
   "outputs": [],
   "source": [
    "cd34_df_alt <- subset(cd34_df, subset = nFeature_RNA >= 200)\n",
    "cd34_df_alt"
   ]
  },
  {
   "cell_type": "code",
   "execution_count": null,
   "metadata": {
    "vscode": {
     "languageId": "r"
    }
   },
   "outputs": [],
   "source": [
    "DimPlot(cd34_df_alt, reduction = 'umap', group.by = 'subcluster')"
   ]
  },
  {
   "cell_type": "code",
   "execution_count": null,
   "metadata": {
    "vscode": {
     "languageId": "r"
    }
   },
   "outputs": [],
   "source": [
    "head(cd34_df_alt)"
   ]
  },
  {
   "cell_type": "code",
   "execution_count": null,
   "metadata": {
    "vscode": {
     "languageId": "r"
    }
   },
   "outputs": [],
   "source": [
    "cd34_metadata <-cd34_df_alt@meta.data\n",
    "cd34_metadata"
   ]
  },
  {
   "cell_type": "code",
   "execution_count": null,
   "metadata": {
    "vscode": {
     "languageId": "r"
    }
   },
   "outputs": [],
   "source": [
    "nrow(cd34_df_alt)"
   ]
  },
  {
   "cell_type": "code",
   "execution_count": null,
   "metadata": {
    "vscode": {
     "languageId": "r"
    }
   },
   "outputs": [],
   "source": [
    "rownames(cd34_df_alt)"
   ]
  },
  {
   "cell_type": "code",
   "execution_count": null,
   "metadata": {
    "vscode": {
     "languageId": "r"
    }
   },
   "outputs": [],
   "source": [
    "ncol(cd34_df_alt)"
   ]
  },
  {
   "cell_type": "code",
   "execution_count": null,
   "metadata": {
    "vscode": {
     "languageId": "r"
    }
   },
   "outputs": [],
   "source": [
    "colnames(cd34_df_alt)"
   ]
  },
  {
   "cell_type": "markdown",
   "metadata": {},
   "source": [
    "Import .CSV and .TXT"
   ]
  },
  {
   "cell_type": "markdown",
   "metadata": {},
   "source": [
    "Contribution scores"
   ]
  },
  {
   "cell_type": "code",
   "execution_count": null,
   "metadata": {
    "vscode": {
     "languageId": "r"
    }
   },
   "outputs": [],
   "source": [
    "gcontri <- read.csv('cNMF4.gene_spectra_score.k_35.dt_0_15.csv')\n",
    "head(gcontri)"
   ]
  },
  {
   "cell_type": "code",
   "execution_count": null,
   "metadata": {
    "vscode": {
     "languageId": "r"
    }
   },
   "outputs": [],
   "source": [
    "ncol(gcontri)"
   ]
  },
  {
   "cell_type": "code",
   "execution_count": null,
   "metadata": {
    "vscode": {
     "languageId": "r"
    }
   },
   "outputs": [],
   "source": [
    "nrow(gcontri)"
   ]
  },
  {
   "cell_type": "markdown",
   "metadata": {},
   "source": [
    "Usage Scores (Matched with Seurat)"
   ]
  },
  {
   "cell_type": "code",
   "execution_count": null,
   "metadata": {
    "vscode": {
     "languageId": "r"
    }
   },
   "outputs": [],
   "source": [
    "gusage <- read.csv('cNMF4.usages.k_35.dt_0_15.consensus.txt', sep = \"\\t\")\n",
    "head(gusage)"
   ]
  },
  {
   "cell_type": "code",
   "execution_count": null,
   "metadata": {
    "vscode": {
     "languageId": "r"
    }
   },
   "outputs": [],
   "source": [
    "ncol(gusage)"
   ]
  },
  {
   "cell_type": "code",
   "execution_count": null,
   "metadata": {
    "vscode": {
     "languageId": "r"
    }
   },
   "outputs": [],
   "source": [
    "nrow(gusage)"
   ]
  },
  {
   "cell_type": "markdown",
   "metadata": {},
   "source": [
    "Interesting GEPs\n",
    "- GEP1 – Monocyte Lineage\n",
    "- GEP4 – Elderly-biased HSC\n",
    "- GEP6 – Late-Erythroid Lineage\n",
    "- GEP14 – Basophil/Mast Cell Lineage\n",
    "- GEP25 – Dendritic Cell Lineage\n",
    "- GEP26 – Lymphoid Lineage\n",
    "- GEP28 – Fetal-biased HSC\n",
    "- GEP30 – Granulocyte Lineage\n",
    "- GEP32 – Erythroid Lineage\n",
    "\n",
    "*taken from cols*"
   ]
  },
  {
   "cell_type": "code",
   "execution_count": null,
   "metadata": {
    "vscode": {
     "languageId": "r"
    }
   },
   "outputs": [],
   "source": [
    "cluster_data <- cd34_metadata$cluster\n",
    "unique(cluster_data)"
   ]
  },
  {
   "cell_type": "code",
   "execution_count": null,
   "metadata": {
    "vscode": {
     "languageId": "r"
    }
   },
   "outputs": [],
   "source": [
    "UMAPPlot(cd34_df_alt, group.by = \"cluster\", label = TRUE,\n",
    "cols = c(\n",
    "  \"Uncommitted\" = \"grey\",\n",
    "  \"Erythroid\" = \"#ee35358c\",\n",
    "  \"Basophil/Mast\" = \"#0726d3cb\",\n",
    "  \"Granulocyte\" = \"#f8f400b4\",\n",
    "  \"Lymphoid\" = \"#0cc2fa\",\n",
    "  \"Megakaryocyte\" = \"#7c0276\",\n",
    "  \"Monocyte/DC\" = \"#06a85dcc\"\n",
    ")) + \n",
    "theme(legend.position = \"none\") +\n",
    "labs(title = \"UMAP Plot for GEPs\")"
   ]
  },
  {
   "cell_type": "markdown",
   "metadata": {},
   "source": [
    "# *CAT Analysis"
   ]
  },
  {
   "cell_type": "markdown",
   "metadata": {},
   "source": [
    "Interesting GEPs\n",
    "- GEP1 – Monocyte Lineage\n",
    "- GEP4 – Elderly-biased HSC\n",
    "- GEP6 – Late-Erythroid Lineage\n",
    "- GEP14 – Basophil/Mast Cell Lineage\n",
    "- GEP25 – Dendritic Cell Lineage\n",
    "- GEP26 – Lymphoid Lineage\n",
    "- GEP28 – Fetal-biased HSC\n",
    "- GEP30 – Granulocyte Lineage\n",
    "- GEP32 – Erythroid Lineage\n",
    "\n",
    "*taken from cols*"
   ]
  },
  {
   "cell_type": "markdown",
   "metadata": {},
   "source": [
    "Rename cd34_df_alt "
   ]
  },
  {
   "cell_type": "code",
   "execution_count": null,
   "metadata": {
    "vscode": {
     "languageId": "r"
    }
   },
   "outputs": [],
   "source": [
    "cd34 <- cd34_df_alt"
   ]
  },
  {
   "cell_type": "markdown",
   "metadata": {},
   "source": [
    "View Metadata"
   ]
  },
  {
   "cell_type": "code",
   "execution_count": null,
   "metadata": {
    "vscode": {
     "languageId": "r"
    }
   },
   "outputs": [],
   "source": [
    "cd34@meta.data %>% colnames"
   ]
  },
  {
   "cell_type": "code",
   "execution_count": null,
   "metadata": {
    "vscode": {
     "languageId": "r"
    }
   },
   "outputs": [],
   "source": [
    "length(cd34@assays$RNA@var.features)"
   ]
  },
  {
   "cell_type": "code",
   "execution_count": null,
   "metadata": {
    "vscode": {
     "languageId": "r"
    }
   },
   "outputs": [],
   "source": [
    "# counts = cd34@assays$RNA@counts"
   ]
  },
  {
   "cell_type": "code",
   "execution_count": null,
   "metadata": {
    "vscode": {
     "languageId": "r"
    }
   },
   "outputs": [],
   "source": [
    "# counts[1:5, 1:5]"
   ]
  },
  {
   "cell_type": "code",
   "execution_count": null,
   "metadata": {
    "vscode": {
     "languageId": "r"
    }
   },
   "outputs": [],
   "source": [
    "print(dim(cd34@assays$RNA@counts))"
   ]
  },
  {
   "cell_type": "code",
   "execution_count": null,
   "metadata": {
    "vscode": {
     "languageId": "r"
    }
   },
   "outputs": [],
   "source": [
    "# # Verify dimensions of the RNA assay's count matrix\n",
    "# if (dim(cd34@assays$RNA@counts)[1] == 0 || dim(cd34@assays$RNA@counts)[2] == 0) {\n",
    "#   stop(\"Error: The Seurat object's count matrix has zero features or zero cells.\")\n",
    "# } else {\n",
    "#   message(\"Count matrix dimensions: \", dim(cd34@assays$RNA@counts)[1], \" features by \", dim(cd34@assays$RNA@counts)[2], \" cells.\")\n",
    "# }\n",
    "\n",
    "# # Ensure variable features are selected correctly\n",
    "# VariableFeatures(cd34) <- VariableFeatures(cd34)[VariableFeatures(cd34) %in% rownames(cd34@assays$RNA@counts)]\n",
    "\n",
    "# # Check if any variable features remain after filtering\n",
    "# if (length(VariableFeatures(cd34)) == 0) {\n",
    "#   stop(\"Error: No valid variable features found. Check if FindVariableFeatures has been executed and returned features.\")\n",
    "# } else {\n",
    "#   message(\"Number of variable features: \", length(VariableFeatures(cd34)))\n",
    "# }\n",
    "\n",
    "# # Proceed to scale the data, handling potential empty features gracefully\n",
    "# tryCatch({\n",
    "#   cd34 <- ScaleData(cd34, features = VariableFeatures(cd34))\n",
    "#   message(\"Data scaling completed successfully.\")\n",
    "# }, error = function(e) {\n",
    "#   message(\"Data scaling failed: \", e$message)\n",
    "# })"
   ]
  },
  {
   "cell_type": "code",
   "execution_count": null,
   "metadata": {
    "vscode": {
     "languageId": "r"
    }
   },
   "outputs": [],
   "source": [
    "cd34@meta.data %>% colnames"
   ]
  },
  {
   "cell_type": "code",
   "execution_count": null,
   "metadata": {
    "vscode": {
     "languageId": "r"
    }
   },
   "outputs": [],
   "source": [
    "cd34@assays$RNA@var.features"
   ]
  },
  {
   "cell_type": "code",
   "execution_count": null,
   "metadata": {
    "vscode": {
     "languageId": "r"
    }
   },
   "outputs": [],
   "source": [
    "# counts_alt = cd34@assays$RNA@counts"
   ]
  },
  {
   "cell_type": "code",
   "execution_count": null,
   "metadata": {
    "vscode": {
     "languageId": "r"
    }
   },
   "outputs": [],
   "source": [
    "# dim(counts_alt)"
   ]
  },
  {
   "cell_type": "code",
   "execution_count": null,
   "metadata": {
    "vscode": {
     "languageId": "r"
    }
   },
   "outputs": [],
   "source": [
    "# counts_alt[1:5, 1:5]"
   ]
  },
  {
   "cell_type": "code",
   "execution_count": null,
   "metadata": {
    "vscode": {
     "languageId": "r"
    }
   },
   "outputs": [],
   "source": [
    "# dim(counts_alt)"
   ]
  },
  {
   "cell_type": "code",
   "execution_count": null,
   "metadata": {
    "vscode": {
     "languageId": "r"
    }
   },
   "outputs": [],
   "source": [
    "# length(barcodes)"
   ]
  },
  {
   "cell_type": "code",
   "execution_count": null,
   "metadata": {
    "vscode": {
     "languageId": "r"
    }
   },
   "outputs": [],
   "source": [
    "length(gene_names)"
   ]
  },
  {
   "cell_type": "code",
   "execution_count": null,
   "metadata": {
    "vscode": {
     "languageId": "r"
    }
   },
   "outputs": [],
   "source": [
    "# counts_fn"
   ]
  },
  {
   "cell_type": "markdown",
   "metadata": {},
   "source": [
    "Try to convert csv to txt (correct file type)"
   ]
  },
  {
   "cell_type": "code",
   "execution_count": null,
   "metadata": {
    "vscode": {
     "languageId": "r"
    }
   },
   "outputs": [],
   "source": [
    "library(readr)"
   ]
  },
  {
   "cell_type": "code",
   "execution_count": null,
   "metadata": {
    "vscode": {
     "languageId": "r"
    }
   },
   "outputs": [],
   "source": [
    "write.table(gcontri, \"cNMF4.gene_spectra_score.k_35.dt_0_15.txt\", sep = \"\\t\", row.names = FALSE, col.names = TRUE, quote = FALSE)"
   ]
  },
  {
   "cell_type": "code",
   "execution_count": null,
   "metadata": {
    "vscode": {
     "languageId": "r"
    }
   },
   "outputs": [],
   "source": [
    "gcontri_t <- as.data.frame(t(gcontri))"
   ]
  },
  {
   "cell_type": "code",
   "execution_count": null,
   "metadata": {
    "vscode": {
     "languageId": "r"
    }
   },
   "outputs": [],
   "source": [
    "ncol(gcontri_t)"
   ]
  },
  {
   "cell_type": "code",
   "execution_count": null,
   "metadata": {
    "vscode": {
     "languageId": "r"
    }
   },
   "outputs": [],
   "source": [
    "nrow(gcontri_t)"
   ]
  },
  {
   "cell_type": "markdown",
   "metadata": {},
   "source": [
    "### DIMS mismatch\n",
    "\n",
    "Gene Spectra Score: \n",
    "- dim: 36 x 40040\n",
    "    - gene names: 40040\n",
    "    - GEPs : 35\n",
    "\n",
    "Matrix: \n",
    "- dim: 41569 x 57678\n",
    "    - barcodes: 57678\n",
    "    - gene names: 41569\n",
    "- variable features: 2000\n",
    "\n",
    "Less reference genes than Matrix"
   ]
  },
  {
   "cell_type": "markdown",
   "metadata": {},
   "source": [
    "Try to find intersection. Courtesey of ChatGPT\n"
   ]
  },
  {
   "cell_type": "code",
   "execution_count": null,
   "metadata": {
    "vscode": {
     "languageId": "r"
    }
   },
   "outputs": [],
   "source": [
    "common_genes <- intersect(rownames(seurat_object), rownames(gcontri_t))"
   ]
  },
  {
   "cell_type": "code",
   "execution_count": null,
   "metadata": {
    "vscode": {
     "languageId": "r"
    }
   },
   "outputs": [],
   "source": [
    "cd34_int <- subset(cd34, features = common_genes)"
   ]
  },
  {
   "cell_type": "markdown",
   "metadata": {},
   "source": [
    "Commented out after first run"
   ]
  },
  {
   "cell_type": "code",
   "execution_count": null,
   "metadata": {
    "vscode": {
     "languageId": "r"
    }
   },
   "outputs": [],
   "source": [
    "counts_int = cd34_int@assays$RNA@counts"
   ]
  },
  {
   "cell_type": "code",
   "execution_count": null,
   "metadata": {
    "vscode": {
     "languageId": "r"
    }
   },
   "outputs": [],
   "source": [
    "# Output counts matrix\n",
    "writeMM(counts_int, 'matrix.mtx')\n",
    "gzip('matrix.mtx')\n",
    "\n",
    "# Output cell barcodes\n",
    "barcodes <- colnames(counts_int)\n",
    "write_delim(as.data.frame(barcodes), 'barcodes.tsv',\n",
    "           col_names = FALSE)\n",
    "gzip('barcodes.tsv')\n",
    "\n",
    "# Output feature names\n",
    "gene_names <- rownames(counts_int)\n",
    "features <- data.frame(\"gene_id\" = gene_names,\"gene_name\" = gene_names,type = \"Gene Expression\")\n",
    "write_delim(as.data.frame(features),delim = \"\\t\", 'features.tsv',\n",
    "           col_names = FALSE)\n",
    "gzip('features.tsv')"
   ]
  },
  {
   "cell_type": "code",
   "execution_count": null,
   "metadata": {
    "vscode": {
     "languageId": "r"
    }
   },
   "outputs": [],
   "source": [
    "data_dir =\"./cd34hult/\"\n",
    "data_dir"
   ]
  },
  {
   "cell_type": "code",
   "execution_count": null,
   "metadata": {
    "vscode": {
     "languageId": "r"
    }
   },
   "outputs": [],
   "source": [
    "output_name = 'starCAT_cd34'\n",
    "counts_fn = \"matrix.mtx.gz\"\n",
    "gene_counts = \"features.tsv.gz\""
   ]
  },
  {
   "cell_type": "markdown",
   "metadata": {},
   "source": [
    "### Run *CAT"
   ]
  },
  {
   "cell_type": "code",
   "execution_count": null,
   "metadata": {
    "vscode": {
     "languageId": "r"
    }
   },
   "outputs": [],
   "source": [
    "# write.table(transpose_data, \"cNMF4.gene_spectra_score.k_35.dt_0_15_t.txt\", sep = \"\\t\", row.names = FALSE, col.names = TRUE, quote = FALSE)"
   ]
  },
  {
   "cell_type": "code",
   "execution_count": null,
   "metadata": {
    "vscode": {
     "languageId": "r"
    }
   },
   "outputs": [],
   "source": [
    "cmd = paste0('starcat',\n",
    "             ' --reference ', '\"cNMF4.gene_spectra_score.k_35.dt_0_15.txt\"',\n",
    "             ' --counts ', '\"', counts_fn, '\"',\n",
    "             ' --output-dir ', '\"', data_dir, '\"',\n",
    "             ' --name ', '\"', output_name, '\"'\n",
    "           )\n",
    "cmd"
   ]
  },
  {
   "cell_type": "code",
   "execution_count": null,
   "metadata": {
    "vscode": {
     "languageId": "r"
    }
   },
   "outputs": [],
   "source": [
    "system(cmd)"
   ]
  }
 ],
 "metadata": {
  "kernelspec": {
   "display_name": "R",
   "language": "R",
   "name": "ir"
  },
  "language_info": {
   "codemirror_mode": "r",
   "file_extension": ".r",
   "mimetype": "text/x-r-source",
   "name": "R",
   "pygments_lexer": "r",
   "version": "3.13.0"
  }
 },
 "nbformat": 4,
 "nbformat_minor": 2
}
